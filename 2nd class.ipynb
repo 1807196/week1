{
 "cells": [
  {
   "cell_type": "code",
   "execution_count": 1,
   "id": "da328086",
   "metadata": {},
   "outputs": [
    {
     "name": "stdout",
     "output_type": "stream",
     "text": [
      "kshitij kishalay lal\n"
     ]
    }
   ],
   "source": [
    "a = \"kshitij\"\n",
    "b =\"kishalay\"\n",
    "c = \"lal\"\n",
    "print(a,b,c)"
   ]
  },
  {
   "cell_type": "code",
   "execution_count": 3,
   "id": "7a60ce3e",
   "metadata": {},
   "outputs": [
    {
     "name": "stdout",
     "output_type": "stream",
     "text": [
      "positive\n"
     ]
    }
   ],
   "source": [
    "a=2\n",
    "if(a>0):\n",
    "    print(\"positive\")\n",
    "    \n",
    "else:\n",
    " print(\"negative\")"
   ]
  },
  {
   "cell_type": "code",
   "execution_count": 8,
   "id": "8dcd623d",
   "metadata": {},
   "outputs": [
    {
     "name": "stdout",
     "output_type": "stream",
     "text": [
      "b is greater\n"
     ]
    }
   ],
   "source": [
    "a=9\n",
    "b=11\n",
    "if(a>b):\n",
    "    print(\"a is greater\")\n",
    "    \n",
    "else:\n",
    "    print(\"b is greater\")\n",
    "    "
   ]
  },
  {
   "cell_type": "code",
   "execution_count": 13,
   "id": "286bf0e2",
   "metadata": {},
   "outputs": [
    {
     "name": "stdout",
     "output_type": "stream",
     "text": [
      "even\n"
     ]
    }
   ],
   "source": [
    "a=8\n",
    "if(a%2 == 0):\n",
    "    print(\"even\")\n",
    "else:\n",
    "    print(\"odd\")"
   ]
  },
  {
   "cell_type": "code",
   "execution_count": 15,
   "id": "8ea81408",
   "metadata": {},
   "outputs": [
    {
     "name": "stdout",
     "output_type": "stream",
     "text": [
      "b is greatest\n"
     ]
    }
   ],
   "source": [
    "a=6\n",
    "b=7\n",
    "c=3\n",
    "if(a>b & a>c):\n",
    "    print(\"a is greatest\" )\n",
    "elif(b>a & b>c):\n",
    "    print(\"b is greatest\")\n",
    "else:\n",
    "    print(\"c is gratest\")"
   ]
  },
  {
   "cell_type": "code",
   "execution_count": 18,
   "id": "d0001479",
   "metadata": {},
   "outputs": [
    {
     "name": "stdout",
     "output_type": "stream",
     "text": [
      "the tax will be 80000.0\n",
      "the income will be 720000.0\n"
     ]
    }
   ],
   "source": [
    "a= 800000\n",
    "if(a<500000):\n",
    "    print(\"no income tax\")\n",
    "elif(a>500000 & a<1000000):\n",
    "    #reducing 10% of income\n",
    "    income1 = a/10\n",
    "    print(\"the tax will be\",income1)\n",
    "    print(\"the income will be\", a- income1)\n",
    "elif(a>1000000 & a<1500000):\n",
    "    #reducing 15%\n",
    "    income2 = a*0.15\n",
    "    print(\"the tax will be\",income2)\n",
    "    print(\"the reduced income will be\",a-income2)\n",
    "\n",
    "else:\n",
    "    print(\"can be continued further\")"
   ]
  },
  {
   "cell_type": "code",
   "execution_count": null,
   "id": "2f0aae70",
   "metadata": {},
   "outputs": [],
   "source": []
  }
 ],
 "metadata": {
  "kernelspec": {
   "display_name": "Python 3",
   "language": "python",
   "name": "python3"
  },
  "language_info": {
   "codemirror_mode": {
    "name": "ipython",
    "version": 3
   },
   "file_extension": ".py",
   "mimetype": "text/x-python",
   "name": "python",
   "nbconvert_exporter": "python",
   "pygments_lexer": "ipython3",
   "version": "3.9.5"
  }
 },
 "nbformat": 4,
 "nbformat_minor": 5
}
